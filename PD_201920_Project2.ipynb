{
 "cells": [
  {
   "cell_type": "markdown",
   "metadata": {},
   "source": [
    "# Data Mining / Prospecção de Dados\n",
    "\n",
    "## Sara C. Madeira and André Falcão, 2019/20\n",
    "\n",
    "# Project 2 - Clustering"
   ]
  },
  {
   "cell_type": "markdown",
   "metadata": {},
   "source": [
    "## Logistics\n",
    "\n",
    "**In a \"normal\" scenario students should work in teams of 2 people. Due to the social distance imposed by current public health situation, students were allowed to work in groups of 1 and 3. In this context, the amount of work was adapted according to the number of students in groups as described below.**\n",
    "\n",
    "* Tasks **1 to 5** should be done by **all** groups\n",
    "* Task **6** should be done only by **groups of 2 and 3** students\n",
    "* Task **7** should be done only by **groups of 3** students\n",
    "\n",
    "The quality of the project will then dictate its grade.\n",
    "\n",
    "**The project's solution should be uploaded in Moodle before the end of May, 17th 2020 (23:59).** \n",
    "\n",
    "**It is mandatory to produce a Jupyter notebook containing code and text/images/tables/etc describing the solution and the results. Projects not delivered in this format will not be graded. Note that you can use `PD_201920_Project2.ipynb`as template.**\n",
    "\n",
    "Students should **upload a `.zip` file** containing all the files necessary for project evaluation. \n",
    "\n",
    "**Decisions should be justified and results should be critically discussed.**"
   ]
  },
  {
   "cell_type": "markdown",
   "metadata": {},
   "source": [
    "## Dataset and Tools\n",
    "\n",
    "In this project you should use [Python 3](https://www.python.org), [Jupyter Notebook](http://jupyter.org) and **[Scikit-learn](http://scikit-learn.org/stable/)**.\n",
    "\n",
    "The dataset to be analysed is **`AML_ALL_PATIENTS_GENES_EXTENDED.csv`**. This is an extended version of the widely studied **Leukemia dataset**, originally published by Golub et al. (1999) [\"Molecular Classification of Cancer: Class Discovery and Class Prediction by Gene\n",
    "Expression Monitoring\"](http://archive.broadinstitute.org/mpr/publications/projects/Leukemia/Golub_et_al_1999.pdf.) \n",
    "\n",
    "**This dataset studies patients with leukaemia. At disease onset clinicials diagnosed them in two different types of leukaemia: acute myeloid leukemia (AML) and acute lymphoblastic leukemia (ALL).** Some of these diagnoses were later confirmed, other revealed to be wrong. The data analyzed here contains the expression levels of 5147 Human genes (features/columns) analyzed in 110 patients (rows): 70 ALL and 40 AML.\n",
    "Each row identifies a patient: The first column, `ID`, contains the patients' IDs , the second column, `DIAGNOSIS`, contains the initial diagnosis as performed by clinicians (ground truth), and the remaining 5147 columns contain the expression levels of the 5147 genes analysed.\n",
    "\n",
    "**The goal is to cluster patients and (ideally) find AML groups and ALL groups.**\n",
    "\n",
    "\n",
    "<img src=\"AML_ALL_PATIENTS_GENES_EXTENDED.jpg\" alt=\"AML_ALL_PATIENTS_GENES_EXTENDED.csv\" style=\"width: 1000px;\"/>"
   ]
  },
  {
   "cell_type": "markdown",
   "metadata": {},
   "source": [
    "## 1. Load and Preprocess Dataset"
   ]
  },
  {
   "cell_type": "markdown",
   "metadata": {},
   "source": [
    "At the end of this step you should have:\n",
    "* a 110 rows × 5147 columns matrix, **X**, containing the values of the 5147 features for each of the 110 patients.\n",
    "* a vector, **y**, with the 110 diagnosis, which you can use later to evaluate clustering quality."
   ]
  },
  {
   "cell_type": "code",
   "execution_count": 1,
   "metadata": {},
   "outputs": [],
   "source": [
    "import pandas as pd\n",
    "import numpy as np\n",
    "from sklearn.cluster import KMeans\n",
    "from sklearn.manifold import TSNE\n",
    "from sklearn.metrics import silhouette_samples, silhouette_score"
   ]
  },
  {
   "cell_type": "code",
   "execution_count": 2,
   "metadata": {},
   "outputs": [
    {
     "data": {
      "text/plain": [
       "(110, 5149)"
      ]
     },
     "execution_count": 2,
     "metadata": {},
     "output_type": "execute_result"
    }
   ],
   "source": [
    "df_data = pd.read_csv('AML_ALL_PATIENTS_GENES_EXTENDED.csv')\n",
    "df_data.shape"
   ]
  },
  {
   "cell_type": "code",
   "execution_count": 3,
   "metadata": {},
   "outputs": [
    {
     "data": {
      "text/html": [
       "<div>\n",
       "<style scoped>\n",
       "    .dataframe tbody tr th:only-of-type {\n",
       "        vertical-align: middle;\n",
       "    }\n",
       "\n",
       "    .dataframe tbody tr th {\n",
       "        vertical-align: top;\n",
       "    }\n",
       "\n",
       "    .dataframe thead th {\n",
       "        text-align: right;\n",
       "    }\n",
       "</style>\n",
       "<table border=\"1\" class=\"dataframe\">\n",
       "  <thead>\n",
       "    <tr style=\"text-align: right;\">\n",
       "      <th></th>\n",
       "      <th>ID</th>\n",
       "      <th>DIAGNOSIS</th>\n",
       "      <th>AFFX-BioC-5_at</th>\n",
       "      <th>hum_alu_at</th>\n",
       "      <th>AFFX-DapX-M_at</th>\n",
       "      <th>AFFX-LysX-5_at</th>\n",
       "      <th>AFFX-HUMISGF3A/M97935_MA_at</th>\n",
       "      <th>AFFX-HUMISGF3A/M97935_MB_at</th>\n",
       "      <th>AFFX-HUMISGF3A/M97935_3_at</th>\n",
       "      <th>AFFX-HUMRGE/M10098_5_at</th>\n",
       "      <th>...</th>\n",
       "      <th>M93143_at</th>\n",
       "      <th>U29175_at</th>\n",
       "      <th>U48730_at</th>\n",
       "      <th>U58516_at</th>\n",
       "      <th>X06956_at</th>\n",
       "      <th>X83863_at</th>\n",
       "      <th>Z17240_at</th>\n",
       "      <th>L49218_f_at</th>\n",
       "      <th>M71243_f_at</th>\n",
       "      <th>Z78285_f_at</th>\n",
       "    </tr>\n",
       "  </thead>\n",
       "  <tbody>\n",
       "    <tr>\n",
       "      <th>0</th>\n",
       "      <td>1</td>\n",
       "      <td>ALL</td>\n",
       "      <td>-0.912181</td>\n",
       "      <td>-0.936280</td>\n",
       "      <td>1.330679</td>\n",
       "      <td>0.045416</td>\n",
       "      <td>0.236442</td>\n",
       "      <td>0.196788</td>\n",
       "      <td>0.244435</td>\n",
       "      <td>2.561725</td>\n",
       "      <td>...</td>\n",
       "      <td>0.428940</td>\n",
       "      <td>1.018678</td>\n",
       "      <td>0.103263</td>\n",
       "      <td>-0.518375</td>\n",
       "      <td>0.019140</td>\n",
       "      <td>0.027771</td>\n",
       "      <td>0.122186</td>\n",
       "      <td>0.593119</td>\n",
       "      <td>-0.391378</td>\n",
       "      <td>-0.161117</td>\n",
       "    </tr>\n",
       "    <tr>\n",
       "      <th>1</th>\n",
       "      <td>2</td>\n",
       "      <td>ALL</td>\n",
       "      <td>0.842926</td>\n",
       "      <td>-1.311323</td>\n",
       "      <td>-0.067011</td>\n",
       "      <td>-0.964423</td>\n",
       "      <td>-0.224387</td>\n",
       "      <td>-0.200579</td>\n",
       "      <td>-0.371600</td>\n",
       "      <td>-0.417306</td>\n",
       "      <td>...</td>\n",
       "      <td>-0.425219</td>\n",
       "      <td>-0.474402</td>\n",
       "      <td>-0.067901</td>\n",
       "      <td>0.555431</td>\n",
       "      <td>0.160143</td>\n",
       "      <td>0.003223</td>\n",
       "      <td>-0.043618</td>\n",
       "      <td>0.032103</td>\n",
       "      <td>-0.576990</td>\n",
       "      <td>0.415146</td>\n",
       "    </tr>\n",
       "    <tr>\n",
       "      <th>2</th>\n",
       "      <td>3</td>\n",
       "      <td>ALL</td>\n",
       "      <td>1.076941</td>\n",
       "      <td>-0.788133</td>\n",
       "      <td>1.859748</td>\n",
       "      <td>1.151430</td>\n",
       "      <td>0.498175</td>\n",
       "      <td>1.244393</td>\n",
       "      <td>1.390191</td>\n",
       "      <td>0.664072</td>\n",
       "      <td>...</td>\n",
       "      <td>2.304741</td>\n",
       "      <td>-0.273350</td>\n",
       "      <td>1.493964</td>\n",
       "      <td>1.747818</td>\n",
       "      <td>-0.568816</td>\n",
       "      <td>0.797680</td>\n",
       "      <td>2.306901</td>\n",
       "      <td>0.705322</td>\n",
       "      <td>-0.331659</td>\n",
       "      <td>-0.261337</td>\n",
       "    </tr>\n",
       "    <tr>\n",
       "      <th>3</th>\n",
       "      <td>4</td>\n",
       "      <td>ALL</td>\n",
       "      <td>-1.596222</td>\n",
       "      <td>-0.874097</td>\n",
       "      <td>0.991127</td>\n",
       "      <td>0.574379</td>\n",
       "      <td>-0.065558</td>\n",
       "      <td>-0.044040</td>\n",
       "      <td>-0.402063</td>\n",
       "      <td>0.488835</td>\n",
       "      <td>...</td>\n",
       "      <td>-0.000930</td>\n",
       "      <td>-0.288936</td>\n",
       "      <td>0.691636</td>\n",
       "      <td>0.548844</td>\n",
       "      <td>-0.552853</td>\n",
       "      <td>-0.342677</td>\n",
       "      <td>-0.653193</td>\n",
       "      <td>-1.336776</td>\n",
       "      <td>-0.496289</td>\n",
       "      <td>-1.514082</td>\n",
       "    </tr>\n",
       "    <tr>\n",
       "      <th>4</th>\n",
       "      <td>5</td>\n",
       "      <td>ALL</td>\n",
       "      <td>-0.192137</td>\n",
       "      <td>-0.655253</td>\n",
       "      <td>-0.193356</td>\n",
       "      <td>-0.651854</td>\n",
       "      <td>0.142487</td>\n",
       "      <td>-0.176496</td>\n",
       "      <td>-0.286980</td>\n",
       "      <td>-0.274163</td>\n",
       "      <td>...</td>\n",
       "      <td>-0.721104</td>\n",
       "      <td>-0.471285</td>\n",
       "      <td>-0.206971</td>\n",
       "      <td>-0.063819</td>\n",
       "      <td>0.325090</td>\n",
       "      <td>-1.183998</td>\n",
       "      <td>0.049037</td>\n",
       "      <td>0.099424</td>\n",
       "      <td>-0.609271</td>\n",
       "      <td>0.139542</td>\n",
       "    </tr>\n",
       "  </tbody>\n",
       "</table>\n",
       "<p>5 rows × 5149 columns</p>\n",
       "</div>"
      ],
      "text/plain": [
       "   ID DIAGNOSIS  AFFX-BioC-5_at  hum_alu_at  AFFX-DapX-M_at  AFFX-LysX-5_at  \\\n",
       "0   1       ALL       -0.912181   -0.936280        1.330679        0.045416   \n",
       "1   2       ALL        0.842926   -1.311323       -0.067011       -0.964423   \n",
       "2   3       ALL        1.076941   -0.788133        1.859748        1.151430   \n",
       "3   4       ALL       -1.596222   -0.874097        0.991127        0.574379   \n",
       "4   5       ALL       -0.192137   -0.655253       -0.193356       -0.651854   \n",
       "\n",
       "   AFFX-HUMISGF3A/M97935_MA_at  AFFX-HUMISGF3A/M97935_MB_at  \\\n",
       "0                     0.236442                     0.196788   \n",
       "1                    -0.224387                    -0.200579   \n",
       "2                     0.498175                     1.244393   \n",
       "3                    -0.065558                    -0.044040   \n",
       "4                     0.142487                    -0.176496   \n",
       "\n",
       "   AFFX-HUMISGF3A/M97935_3_at  AFFX-HUMRGE/M10098_5_at  ...  M93143_at  \\\n",
       "0                    0.244435                 2.561725  ...   0.428940   \n",
       "1                   -0.371600                -0.417306  ...  -0.425219   \n",
       "2                    1.390191                 0.664072  ...   2.304741   \n",
       "3                   -0.402063                 0.488835  ...  -0.000930   \n",
       "4                   -0.286980                -0.274163  ...  -0.721104   \n",
       "\n",
       "   U29175_at  U48730_at  U58516_at  X06956_at  X83863_at  Z17240_at  \\\n",
       "0   1.018678   0.103263  -0.518375   0.019140   0.027771   0.122186   \n",
       "1  -0.474402  -0.067901   0.555431   0.160143   0.003223  -0.043618   \n",
       "2  -0.273350   1.493964   1.747818  -0.568816   0.797680   2.306901   \n",
       "3  -0.288936   0.691636   0.548844  -0.552853  -0.342677  -0.653193   \n",
       "4  -0.471285  -0.206971  -0.063819   0.325090  -1.183998   0.049037   \n",
       "\n",
       "   L49218_f_at  M71243_f_at  Z78285_f_at  \n",
       "0     0.593119    -0.391378    -0.161117  \n",
       "1     0.032103    -0.576990     0.415146  \n",
       "2     0.705322    -0.331659    -0.261337  \n",
       "3    -1.336776    -0.496289    -1.514082  \n",
       "4     0.099424    -0.609271     0.139542  \n",
       "\n",
       "[5 rows x 5149 columns]"
      ]
     },
     "execution_count": 3,
     "metadata": {},
     "output_type": "execute_result"
    }
   ],
   "source": [
    "df_data.head()"
   ]
  },
  {
   "cell_type": "code",
   "execution_count": 4,
   "metadata": {},
   "outputs": [
    {
     "data": {
      "text/plain": [
       "((110, 5147), (110,))"
      ]
     },
     "execution_count": 4,
     "metadata": {},
     "output_type": "execute_result"
    }
   ],
   "source": [
    "X = df_data.iloc[:, 2:]\n",
    "y = df_data.iloc[:, 1]\n",
    "X.shape, y.shape"
   ]
  },
  {
   "cell_type": "code",
   "execution_count": 5,
   "metadata": {},
   "outputs": [
    {
     "data": {
      "text/html": [
       "<div>\n",
       "<style scoped>\n",
       "    .dataframe tbody tr th:only-of-type {\n",
       "        vertical-align: middle;\n",
       "    }\n",
       "\n",
       "    .dataframe tbody tr th {\n",
       "        vertical-align: top;\n",
       "    }\n",
       "\n",
       "    .dataframe thead th {\n",
       "        text-align: right;\n",
       "    }\n",
       "</style>\n",
       "<table border=\"1\" class=\"dataframe\">\n",
       "  <thead>\n",
       "    <tr style=\"text-align: right;\">\n",
       "      <th></th>\n",
       "      <th>AFFX-BioC-5_at</th>\n",
       "      <th>hum_alu_at</th>\n",
       "      <th>AFFX-DapX-M_at</th>\n",
       "      <th>AFFX-LysX-5_at</th>\n",
       "      <th>AFFX-HUMISGF3A/M97935_MA_at</th>\n",
       "      <th>AFFX-HUMISGF3A/M97935_MB_at</th>\n",
       "      <th>AFFX-HUMISGF3A/M97935_3_at</th>\n",
       "      <th>AFFX-HUMRGE/M10098_5_at</th>\n",
       "      <th>AFFX-HUMRGE/M10098_M_at</th>\n",
       "      <th>AFFX-HUMRGE/M10098_3_at</th>\n",
       "      <th>...</th>\n",
       "      <th>M93143_at</th>\n",
       "      <th>U29175_at</th>\n",
       "      <th>U48730_at</th>\n",
       "      <th>U58516_at</th>\n",
       "      <th>X06956_at</th>\n",
       "      <th>X83863_at</th>\n",
       "      <th>Z17240_at</th>\n",
       "      <th>L49218_f_at</th>\n",
       "      <th>M71243_f_at</th>\n",
       "      <th>Z78285_f_at</th>\n",
       "    </tr>\n",
       "  </thead>\n",
       "  <tbody>\n",
       "    <tr>\n",
       "      <th>0</th>\n",
       "      <td>-0.912181</td>\n",
       "      <td>-0.936280</td>\n",
       "      <td>1.330679</td>\n",
       "      <td>0.045416</td>\n",
       "      <td>0.236442</td>\n",
       "      <td>0.196788</td>\n",
       "      <td>0.244435</td>\n",
       "      <td>2.561725</td>\n",
       "      <td>2.489963</td>\n",
       "      <td>1.794520</td>\n",
       "      <td>...</td>\n",
       "      <td>0.428940</td>\n",
       "      <td>1.018678</td>\n",
       "      <td>0.103263</td>\n",
       "      <td>-0.518375</td>\n",
       "      <td>0.019140</td>\n",
       "      <td>0.027771</td>\n",
       "      <td>0.122186</td>\n",
       "      <td>0.593119</td>\n",
       "      <td>-0.391378</td>\n",
       "      <td>-0.161117</td>\n",
       "    </tr>\n",
       "    <tr>\n",
       "      <th>1</th>\n",
       "      <td>0.842926</td>\n",
       "      <td>-1.311323</td>\n",
       "      <td>-0.067011</td>\n",
       "      <td>-0.964423</td>\n",
       "      <td>-0.224387</td>\n",
       "      <td>-0.200579</td>\n",
       "      <td>-0.371600</td>\n",
       "      <td>-0.417306</td>\n",
       "      <td>-0.408754</td>\n",
       "      <td>-0.002931</td>\n",
       "      <td>...</td>\n",
       "      <td>-0.425219</td>\n",
       "      <td>-0.474402</td>\n",
       "      <td>-0.067901</td>\n",
       "      <td>0.555431</td>\n",
       "      <td>0.160143</td>\n",
       "      <td>0.003223</td>\n",
       "      <td>-0.043618</td>\n",
       "      <td>0.032103</td>\n",
       "      <td>-0.576990</td>\n",
       "      <td>0.415146</td>\n",
       "    </tr>\n",
       "    <tr>\n",
       "      <th>2</th>\n",
       "      <td>1.076941</td>\n",
       "      <td>-0.788133</td>\n",
       "      <td>1.859748</td>\n",
       "      <td>1.151430</td>\n",
       "      <td>0.498175</td>\n",
       "      <td>1.244393</td>\n",
       "      <td>1.390191</td>\n",
       "      <td>0.664072</td>\n",
       "      <td>0.542223</td>\n",
       "      <td>0.548277</td>\n",
       "      <td>...</td>\n",
       "      <td>2.304741</td>\n",
       "      <td>-0.273350</td>\n",
       "      <td>1.493964</td>\n",
       "      <td>1.747818</td>\n",
       "      <td>-0.568816</td>\n",
       "      <td>0.797680</td>\n",
       "      <td>2.306901</td>\n",
       "      <td>0.705322</td>\n",
       "      <td>-0.331659</td>\n",
       "      <td>-0.261337</td>\n",
       "    </tr>\n",
       "    <tr>\n",
       "      <th>3</th>\n",
       "      <td>-1.596222</td>\n",
       "      <td>-0.874097</td>\n",
       "      <td>0.991127</td>\n",
       "      <td>0.574379</td>\n",
       "      <td>-0.065558</td>\n",
       "      <td>-0.044040</td>\n",
       "      <td>-0.402063</td>\n",
       "      <td>0.488835</td>\n",
       "      <td>0.247321</td>\n",
       "      <td>0.266520</td>\n",
       "      <td>...</td>\n",
       "      <td>-0.000930</td>\n",
       "      <td>-0.288936</td>\n",
       "      <td>0.691636</td>\n",
       "      <td>0.548844</td>\n",
       "      <td>-0.552853</td>\n",
       "      <td>-0.342677</td>\n",
       "      <td>-0.653193</td>\n",
       "      <td>-1.336776</td>\n",
       "      <td>-0.496289</td>\n",
       "      <td>-1.514082</td>\n",
       "    </tr>\n",
       "    <tr>\n",
       "      <th>4</th>\n",
       "      <td>-0.192137</td>\n",
       "      <td>-0.655253</td>\n",
       "      <td>-0.193356</td>\n",
       "      <td>-0.651854</td>\n",
       "      <td>0.142487</td>\n",
       "      <td>-0.176496</td>\n",
       "      <td>-0.286980</td>\n",
       "      <td>-0.274163</td>\n",
       "      <td>0.379259</td>\n",
       "      <td>-0.311094</td>\n",
       "      <td>...</td>\n",
       "      <td>-0.721104</td>\n",
       "      <td>-0.471285</td>\n",
       "      <td>-0.206971</td>\n",
       "      <td>-0.063819</td>\n",
       "      <td>0.325090</td>\n",
       "      <td>-1.183998</td>\n",
       "      <td>0.049037</td>\n",
       "      <td>0.099424</td>\n",
       "      <td>-0.609271</td>\n",
       "      <td>0.139542</td>\n",
       "    </tr>\n",
       "  </tbody>\n",
       "</table>\n",
       "<p>5 rows × 5147 columns</p>\n",
       "</div>"
      ],
      "text/plain": [
       "   AFFX-BioC-5_at  hum_alu_at  AFFX-DapX-M_at  AFFX-LysX-5_at  \\\n",
       "0       -0.912181   -0.936280        1.330679        0.045416   \n",
       "1        0.842926   -1.311323       -0.067011       -0.964423   \n",
       "2        1.076941   -0.788133        1.859748        1.151430   \n",
       "3       -1.596222   -0.874097        0.991127        0.574379   \n",
       "4       -0.192137   -0.655253       -0.193356       -0.651854   \n",
       "\n",
       "   AFFX-HUMISGF3A/M97935_MA_at  AFFX-HUMISGF3A/M97935_MB_at  \\\n",
       "0                     0.236442                     0.196788   \n",
       "1                    -0.224387                    -0.200579   \n",
       "2                     0.498175                     1.244393   \n",
       "3                    -0.065558                    -0.044040   \n",
       "4                     0.142487                    -0.176496   \n",
       "\n",
       "   AFFX-HUMISGF3A/M97935_3_at  AFFX-HUMRGE/M10098_5_at  \\\n",
       "0                    0.244435                 2.561725   \n",
       "1                   -0.371600                -0.417306   \n",
       "2                    1.390191                 0.664072   \n",
       "3                   -0.402063                 0.488835   \n",
       "4                   -0.286980                -0.274163   \n",
       "\n",
       "   AFFX-HUMRGE/M10098_M_at  AFFX-HUMRGE/M10098_3_at  ...  M93143_at  \\\n",
       "0                 2.489963                 1.794520  ...   0.428940   \n",
       "1                -0.408754                -0.002931  ...  -0.425219   \n",
       "2                 0.542223                 0.548277  ...   2.304741   \n",
       "3                 0.247321                 0.266520  ...  -0.000930   \n",
       "4                 0.379259                -0.311094  ...  -0.721104   \n",
       "\n",
       "   U29175_at  U48730_at  U58516_at  X06956_at  X83863_at  Z17240_at  \\\n",
       "0   1.018678   0.103263  -0.518375   0.019140   0.027771   0.122186   \n",
       "1  -0.474402  -0.067901   0.555431   0.160143   0.003223  -0.043618   \n",
       "2  -0.273350   1.493964   1.747818  -0.568816   0.797680   2.306901   \n",
       "3  -0.288936   0.691636   0.548844  -0.552853  -0.342677  -0.653193   \n",
       "4  -0.471285  -0.206971  -0.063819   0.325090  -1.183998   0.049037   \n",
       "\n",
       "   L49218_f_at  M71243_f_at  Z78285_f_at  \n",
       "0     0.593119    -0.391378    -0.161117  \n",
       "1     0.032103    -0.576990     0.415146  \n",
       "2     0.705322    -0.331659    -0.261337  \n",
       "3    -1.336776    -0.496289    -1.514082  \n",
       "4     0.099424    -0.609271     0.139542  \n",
       "\n",
       "[5 rows x 5147 columns]"
      ]
     },
     "execution_count": 5,
     "metadata": {},
     "output_type": "execute_result"
    }
   ],
   "source": [
    "X.head()"
   ]
  },
  {
   "cell_type": "code",
   "execution_count": 6,
   "metadata": {},
   "outputs": [
    {
     "data": {
      "text/plain": [
       "0    ALL\n",
       "1    ALL\n",
       "2    ALL\n",
       "3    ALL\n",
       "4    ALL\n",
       "Name: DIAGNOSIS, dtype: object"
      ]
     },
     "execution_count": 6,
     "metadata": {},
     "output_type": "execute_result"
    }
   ],
   "source": [
    "y.head()"
   ]
  },
  {
   "cell_type": "code",
   "execution_count": 7,
   "metadata": {},
   "outputs": [
    {
     "data": {
      "text/plain": [
       "ALL    70\n",
       "AML    40\n",
       "Name: DIAGNOSIS, dtype: int64"
      ]
     },
     "execution_count": 7,
     "metadata": {},
     "output_type": "execute_result"
    }
   ],
   "source": [
    "y.value_counts()"
   ]
  },
  {
   "cell_type": "markdown",
   "metadata": {},
   "source": [
    "## 2. Dimensionality Reduction"
   ]
  },
  {
   "cell_type": "markdown",
   "metadata": {},
   "source": [
    "As you already noticed the number of features (genes) is extremely high whe compared to the number of objects to cluster (patients). In this context, you should perform dimensionality reduction, that is, reduce the number of features, in two ways:\n",
    "\n",
    "* [**Removing features with low variance**](http://scikit-learn.org/stable/modules/feature_selection.html)\n",
    "\n",
    "* [**Using Principal Component Analysis**](http://scikit-learn.org/stable/modules/generated/sklearn.decomposition.PCA.html)\n",
    "\n",
    "At the end of this step you should have two new matrices with the same number of rows, each with a different number of columns (features): **X_variance** and **X_PCA**. \n",
    "\n",
    "**Don't change X you will need it!**"
   ]
  },
  {
   "cell_type": "markdown",
   "metadata": {},
   "source": [
    "### 2.1 Removing features with low variance"
   ]
  },
  {
   "cell_type": "markdown",
   "metadata": {},
   "source": [
    "Lets remove the features with the low variance. Low variance features are less informative about the reality they are describing."
   ]
  },
  {
   "cell_type": "code",
   "execution_count": 8,
   "metadata": {},
   "outputs": [
    {
     "data": {
      "text/plain": [
       "(110, 31)"
      ]
     },
     "execution_count": 8,
     "metadata": {},
     "output_type": "execute_result"
    }
   ],
   "source": [
    "from sklearn.feature_selection import VarianceThreshold\n",
    "sel = VarianceThreshold(threshold=1.25)\n",
    "X_variance = sel.fit_transform(X)\n",
    "X_variance.shape"
   ]
  },
  {
   "cell_type": "markdown",
   "metadata": {},
   "source": [
    "### 2.2 Removing features using PCA"
   ]
  },
  {
   "cell_type": "code",
   "execution_count": 9,
   "metadata": {},
   "outputs": [],
   "source": [
    "from sklearn.preprocessing import StandardScaler\n",
    "from sklearn.decomposition import PCA\n",
    "import matplotlib.pyplot as plt\n",
    "import seaborn as sns"
   ]
  },
  {
   "cell_type": "code",
   "execution_count": 10,
   "metadata": {},
   "outputs": [],
   "source": [
    "def create_columns(num_components):\n",
    "    x_axis = []\n",
    "    columns = []\n",
    "    for i in range(1, num_components + 1): \n",
    "        x_axis.append('PC{}'.format(i))\n",
    "        columns.append('Principal Component {}'.format(i))\n",
    "    return x_axis, columns\n",
    "\n",
    "def pca(df, num_components):\n",
    "    p = PCA(n_components = num_components)\n",
    "    principal_components = p.fit_transform(df)\n",
    "    x_axis, columns = create_columns(num_components)\n",
    "    df_pca_output = pd.DataFrame({'var':p.explained_variance_ratio_, 'PC':x_axis})\n",
    "    return pd.DataFrame(data = principal_components, columns = columns), df_pca_output,p"
   ]
  },
  {
   "cell_type": "markdown",
   "metadata": {},
   "source": [
    "Standardize the data (mean 0 and std 1) and apply PCA"
   ]
  },
  {
   "cell_type": "code",
   "execution_count": 11,
   "metadata": {},
   "outputs": [],
   "source": [
    "X_STANDARD = StandardScaler().fit(X).transform(X)\n",
    "df_unsupervised_pca, df_pca, p = pca(X_STANDARD, len(X_STANDARD))"
   ]
  },
  {
   "cell_type": "markdown",
   "metadata": {},
   "source": [
    "Analyse the results"
   ]
  },
  {
   "cell_type": "code",
   "execution_count": 12,
   "metadata": {},
   "outputs": [
    {
     "data": {
      "text/plain": [
       "[<matplotlib.lines.Line2D at 0x16752d8a188>]"
      ]
     },
     "execution_count": 12,
     "metadata": {},
     "output_type": "execute_result"
    },
    {
     "data": {
      "image/png": "[encoded data removed]",
      "text/plain": [
       "<Figure size 1440x720 with 1 Axes>"
      ]
     },
     "metadata": {
      "needs_background": "light"
     },
     "output_type": "display_data"
    }
   ],
   "source": [
    "take = 30\n",
    "plt.figure(figsize=(20,10))\n",
    "plt.plot(df_pca['PC'].iloc[:take],np.cumsum(p.explained_variance_ratio_)[:take])"
   ]
  },
  {
   "cell_type": "markdown",
   "metadata": {},
   "source": [
    "The figure above shows us that by retaining the first 30 components we maintain almost 80% of the data variance."
   ]
  },
  {
   "cell_type": "markdown",
   "metadata": {},
   "source": [
    "Lets save the PCA output in 'X_PCA' object, by retaining just 30 components. "
   ]
  },
  {
   "cell_type": "code",
   "execution_count": 13,
   "metadata": {},
   "outputs": [],
   "source": [
    "df_unsupervised_pca2, _ , _ = pca(X_STANDARD, 30)\n",
    "X_PCA = df_unsupervised_pca2.values"
   ]
  },
  {
   "cell_type": "markdown",
   "metadata": {},
   "source": [
    "### 2.3 Visualize the data using t-SNE"
   ]
  },
  {
   "cell_type": "markdown",
   "metadata": {},
   "source": [
    "Now lets apply t-distributed Stochastic Neighbor Embedding (t-SNE). t-SNE is a tool to visualize high-dimensional data, and we will use it in order to reduce the dimension of our data to just 2 components, and visualize them. "
   ]
  },
  {
   "cell_type": "code",
   "execution_count": 14,
   "metadata": {},
   "outputs": [
    {
     "name": "stderr",
     "output_type": "stream",
     "text": [
      "C:\\Users\\joao_\\Anaconda3\\lib\\site-packages\\seaborn\\axisgrid.py:2079: UserWarning: The `size` parameter has been renamed to `height`; please update your code.\n",
      "  warnings.warn(msg, UserWarning)\n"
     ]
    },
    {
     "data": {
      "text/plain": [
       "<seaborn.axisgrid.PairGrid at 0x16753324ac8>"
      ]
     },
     "execution_count": 14,
     "metadata": {},
     "output_type": "execute_result"
    },
    {
     "data": {
      "image/png": "[encoded data removed]",
      "text/plain": [
       "<Figure size 489x432 with 1 Axes>"
      ]
     },
     "metadata": {
      "needs_background": "light"
     },
     "output_type": "display_data"
    }
   ],
   "source": [
    "df_plot_tsne = pd.DataFrame(TSNE(n_components=2).fit_transform(X),columns=['x','y'])\n",
    "df_plot_tsne['clusters'] =y\n",
    "sns.pairplot(x_vars=[\"x\"], y_vars=[\"y\"], data=df_plot_tsne, hue=\"clusters\", size=6)"
   ]
  },
  {
   "cell_type": "markdown",
   "metadata": {},
   "source": [
    "By looking to the data distribution in space, we can see that it will be a difficult clustering task if we would compare our clusters with the 'diagnosis' feature."
   ]
  },
  {
   "cell_type": "markdown",
   "metadata": {},
   "source": [
    "## 3. Clustering Patients using Partitional Clustering"
   ]
  },
  {
   "cell_type": "markdown",
   "metadata": {},
   "source": [
    "Use **`K`-means** to cluster the patients:\n",
    "\n",
    "* Cluster the original data (5147 features): **X**.\n",
    "    * Use different values of `K`.\n",
    "    * For each value of `K` present the clustering by specifying how many patients ALL and AML are in each cluster.     \n",
    "    For instance, `{0: {'ALL': 70, 'AML': 0}, 1: {'ALL': 0, 'AML': 40}}` is the ideal clustering that we aimed at obtained with K-means when `K=2`, where the first cluster has 70 ALL patients and 0 AML patients and the second cluster has 0 ALL patients and 40 AML patients. \n",
    "    You can choose how to output this information.  \n",
    "    * What is the best value of `K` ? Justify using the clustering results and the [Silhouette score](http://scikit-learn.org/stable/modules/generated/sklearn.metrics.silhouette_score.html).\n",
    "\n",
    "* Cluster the data obtained after removing features with low variance: **X_variance**.\n",
    "    * Study different values of `K` as above.\n",
    "\n",
    "* Cluster the data obtained after applying PCA: **X_PCA**.\n",
    "    * Study different values of `K` as above.\n",
    "\n",
    "* Compare the results obtained in the three datasets above for the best `K`. Discuss."
   ]
  },
  {
   "cell_type": "code",
   "execution_count": 15,
   "metadata": {},
   "outputs": [],
   "source": [
    "def kmeans_clustering(data, clusters_test):\n",
    "    results_all = []\n",
    "    indexes = []\n",
    "    kmeans_output_vectors = []\n",
    "    for i, c in enumerate(clusters_test):\n",
    "        data2 = data.copy()\n",
    "        indexes.append(c)\n",
    "        kmeans = KMeans(n_clusters=c, random_state=42).fit(data2)\n",
    "        data2['cluster'] = kmeans.labels_\n",
    "        data2['target'] = y\n",
    "        kmeans_output_vectors.append({'k':c, 'clusters': data2['cluster']})\n",
    "        clusters_uniques = np.unique(data2['cluster'])\n",
    "        results = {}\n",
    "        for c2 in clusters_uniques:\n",
    "            all_len = len(data2[(data2['cluster']==c2)&(data2['target']=='ALL')])\n",
    "            aml_len = len(data2[(data2['cluster']==c2)&(data2['target']=='AML')])\n",
    "            results[c2] = {'ALL':all_len, 'AML':aml_len}\n",
    "        results_all.append(results)\n",
    "    return pd.DataFrame(results_all, index = indexes), kmeans_output_vectors\n",
    "\n",
    "def plot_clusters_by_diagnosis(data):\n",
    "    N = len(data)\n",
    "    ind = np.arange(N)  # the x locations for the groups\n",
    "    width = 0.27       # the width of the bars\n",
    "\n",
    "    fig = plt.figure(figsize=(10,5))\n",
    "    ax = fig.add_subplot(111)\n",
    "    \n",
    "    def autolabel(rects):\n",
    "        for rect in rects:\n",
    "            h = rect.get_height()\n",
    "            ax.text(rect.get_x()+rect.get_width()/2., 1.05*h, '%d'%int(h),\n",
    "                    ha='center', va='bottom')\n",
    "    for i in ind:\n",
    "        ax1 = ax.bar(i, data.iloc[i]['ALL'], width, color='r')\n",
    "        ax2 = ax.bar(i+width, data.iloc[i]['AML'], width, color='g')\n",
    "        autolabel(ax1)\n",
    "        autolabel(ax2)\n",
    "\n",
    "    ax.set_ylabel('Count')\n",
    "    ax.set_xlabel('Cluster')\n",
    "    ax.set_xticks(ind+width)\n",
    "    ax.set_xticklabels(ind)\n",
    "    ax.legend((ax1[0], ax2[0]), ('ALL','AML') )\n",
    "    \n",
    "def get_kmeans_results(df_kmeans_results, k):\n",
    "    data_plot = df_kmeans_results.loc[k]\n",
    "    #remove nans \n",
    "    data_to_plot = []\n",
    "    for d in data_plot:\n",
    "        if isinstance(d, dict): data_to_plot.append(d)\n",
    "    return pd.DataFrame(data_to_plot)"
   ]
  },
  {
   "cell_type": "markdown",
   "metadata": {},
   "source": [
    "### 3.1 KMeans using original data (5147 features)"
   ]
  },
  {
   "cell_type": "markdown",
   "metadata": {},
   "source": [
    "Test different values of K and save results to further analysis."
   ]
  },
  {
   "cell_type": "code",
   "execution_count": 16,
   "metadata": {},
   "outputs": [],
   "source": [
    "clusters_test = [2,3,4,5]\n",
    "df_kmeans_results, kmeans_output_vectors = kmeans_clustering(X, clusters_test)"
   ]
  },
  {
   "cell_type": "markdown",
   "metadata": {},
   "source": [
    "#### Analyse the results"
   ]
  },
  {
   "cell_type": "markdown",
   "metadata": {},
   "source": [
    "**With k = 2**"
   ]
  },
  {
   "cell_type": "markdown",
   "metadata": {},
   "source": [
    "Now lets plot the attribute 'DIAGNOSIS' grouped by clusters."
   ]
  },
  {
   "cell_type": "code",
   "execution_count": 17,
   "metadata": {},
   "outputs": [
    {
     "name": "stdout",
     "output_type": "stream",
     "text": [
      "AVG Silhouette score: 0.09546840068828755\n"
     ]
    },
    {
     "data": {
      "image/png": "[encoded data removed]",
      "text/plain": [
       "<Figure size 720x360 with 1 Axes>"
      ]
     },
     "metadata": {
      "needs_background": "light"
     },
     "output_type": "display_data"
    }
   ],
   "source": [
    "k = 2\n",
    "df_results_k2 = get_kmeans_results(df_kmeans_results, k)\n",
    "plot_clusters_by_diagnosis(df_results_k2)\n",
    "print('AVG Silhouette score: {}'.format(silhouette_score(X, next(item for item in kmeans_output_vectors if item[\"k\"] == k)['clusters'], random_state=42)))"
   ]
  },
  {
   "cell_type": "markdown",
   "metadata": {},
   "source": [
    "We can see in the graph above that by applying KMeans to the original data, with k = 2 the results are far from the ideal results, which would be that in each clusters we got just data for one type of diagnosis (ALL or AML)"
   ]
  },
  {
   "cell_type": "markdown",
   "metadata": {},
   "source": [
    "Now lets apply t-SNE in order to visualize the clusters formed by KMeans with k = 2"
   ]
  },
  {
   "cell_type": "code",
   "execution_count": 18,
   "metadata": {},
   "outputs": [
    {
     "name": "stderr",
     "output_type": "stream",
     "text": [
      "C:\\Users\\joao_\\Anaconda3\\lib\\site-packages\\seaborn\\axisgrid.py:2079: UserWarning: The `size` parameter has been renamed to `height`; please update your code.\n",
      "  warnings.warn(msg, UserWarning)\n"
     ]
    },
    {
     "data": {
      "text/plain": [
       "<seaborn.axisgrid.PairGrid at 0x167539b0908>"
      ]
     },
     "execution_count": 18,
     "metadata": {},
     "output_type": "execute_result"
    },
    {
     "data": {
      "image/png": "[encoded data removed]",
      "text/plain": [
       "<Figure size 479.375x432 with 1 Axes>"
      ]
     },
     "metadata": {
      "needs_background": "light"
     },
     "output_type": "display_data"
    }
   ],
   "source": [
    "df_plot_k2_tsne = pd.DataFrame(TSNE(n_components=2).fit_transform(X),columns=['x','y'])\n",
    "df_plot_k2_tsne['clusters'] = next(item for item in kmeans_output_vectors if item[\"k\"] == 2)['clusters']\n",
    "sns.pairplot(x_vars=[\"x\"], y_vars=[\"y\"], data=df_plot_k2_tsne, hue=\"clusters\", size=6)"
   ]
  },
  {
   "cell_type": "markdown",
   "metadata": {},
   "source": [
    "**With k = 3**"
   ]
  },
  {
   "cell_type": "code",
   "execution_count": 19,
   "metadata": {},
   "outputs": [
    {
     "name": "stdout",
     "output_type": "stream",
     "text": [
      "AVG Silhouette score: 0.10700101796686015\n"
     ]
    },
    {
     "data": {
      "image/png": "[encoded data removed]",
      "text/plain": [
       "<Figure size 720x360 with 1 Axes>"
      ]
     },
     "metadata": {
      "needs_background": "light"
     },
     "output_type": "display_data"
    }
   ],
   "source": [
    "k = 3\n",
    "df_results_k3 = get_kmeans_results(df_kmeans_results,k)\n",
    "plot_clusters_by_diagnosis(df_results_k3)\n",
    "print('AVG Silhouette score: {}'.format(silhouette_score(X, next(item for item in kmeans_output_vectors if item[\"k\"] == k)['clusters'], random_state=42)))"
   ]
  },
  {
   "cell_type": "code",
   "execution_count": 20,
   "metadata": {},
   "outputs": [
    {
     "name": "stderr",
     "output_type": "stream",
     "text": [
      "C:\\Users\\joao_\\Anaconda3\\lib\\site-packages\\seaborn\\axisgrid.py:2079: UserWarning: The `size` parameter has been renamed to `height`; please update your code.\n",
      "  warnings.warn(msg, UserWarning)\n"
     ]
    },
    {
     "data": {
      "text/plain": [
       "<seaborn.axisgrid.PairGrid at 0x16753947888>"
      ]
     },
     "execution_count": 20,
     "metadata": {},
     "output_type": "execute_result"
    },
    {
     "data": {
      "image/png": "[encoded data removed]",
      "text/plain": [
       "<Figure size 479.375x432 with 1 Axes>"
      ]
     },
     "metadata": {
      "needs_background": "light"
     },
     "output_type": "display_data"
    }
   ],
   "source": [
    "df_plot_k3_tsne = pd.DataFrame(TSNE(n_components=2).fit_transform(X),columns=['x','y'])\n",
    "df_plot_k3_tsne['clusters'] = next(item for item in kmeans_output_vectors if item[\"k\"] == 3)['clusters']\n",
    "sns.pairplot(x_vars=[\"x\"], y_vars=[\"y\"], data=df_plot_k3_tsne, hue=\"clusters\", size=6)"
   ]
  },
  {
   "cell_type": "markdown",
   "metadata": {},
   "source": [
    "**With K=4**"
   ]
  },
  {
   "cell_type": "code",
   "execution_count": 21,
   "metadata": {},
   "outputs": [
    {
     "name": "stdout",
     "output_type": "stream",
     "text": [
      "AVG Silhouette score: 0.11727165339779677\n"
     ]
    },
    {
     "data": {
      "image/png": "[encoded data removed]",
      "text/plain": [
       "<Figure size 720x360 with 1 Axes>"
      ]
     },
     "metadata": {
      "needs_background": "light"
     },
     "output_type": "display_data"
    }
   ],
   "source": [
    "k = 4\n",
    "df_results_k4 = get_kmeans_results(df_kmeans_results,k)\n",
    "plot_clusters_by_diagnosis(df_results_k4)\n",
    "print('AVG Silhouette score: {}'.format(silhouette_score(X, next(item for item in kmeans_output_vectors if item[\"k\"] == k)['clusters'], random_state=42)))"
   ]
  },
  {
   "cell_type": "markdown",
   "metadata": {},
   "source": [
    "With k = 4 we can see that the algorithm keeps the bigger cluster (cluster nº3 in the figure above, and cluster nº 0 in the figure of k=3), and then splits the smaller clusters into a new one with just 2 records (cluster nº2)."
   ]
  },
  {
   "cell_type": "markdown",
   "metadata": {},
   "source": [
    "**With K=5**"
   ]
  },
  {
   "cell_type": "code",
   "execution_count": 22,
   "metadata": {},
   "outputs": [
    {
     "name": "stdout",
     "output_type": "stream",
     "text": [
      "AVG Silhouette score: 0.09063640750115613\n"
     ]
    },
    {
     "data": {
      "image/png": "[encoded data removed]",
      "text/plain": [
       "<Figure size 720x360 with 1 Axes>"
      ]
     },
     "metadata": {
      "needs_background": "light"
     },
     "output_type": "display_data"
    }
   ],
   "source": [
    "k = 5\n",
    "df_results_k5 = get_kmeans_results(df_kmeans_results,k)\n",
    "plot_clusters_by_diagnosis(df_results_k5)\n",
    "print('AVG Silhouette score: {}'.format(silhouette_score(X, next(item for item in kmeans_output_vectors if item[\"k\"] == k)['clusters'], random_state=42)))"
   ]
  },
  {
   "cell_type": "markdown",
   "metadata": {},
   "source": [
    "#### Discuss the results"
   ]
  },
  {
   "cell_type": "markdown",
   "metadata": {},
   "source": [
    "We tested 4 values of K, and for all of them we get average silhouette scores close to zero. This means that clusters are overlapping each others. This can be confirmed when we apply t-NSE visualization and we see that our 110 data points are very closed to each others. "
   ]
  },
  {
   "cell_type": "markdown",
   "metadata": {},
   "source": [
    "Probably we will get better results by applying dimensional reduction techniques to our data. This will be done in the next section."
   ]
  },
  {
   "cell_type": "markdown",
   "metadata": {},
   "source": [
    "### 3.2 KMeans using only high variance features"
   ]
  },
  {
   "cell_type": "markdown",
   "metadata": {},
   "source": [
    "In section 2.1 we used a threshold of 1.25 in the 'VarianceThreshold' sklearn class. With that we obtained 31 features."
   ]
  },
  {
   "cell_type": "code",
   "execution_count": 23,
   "metadata": {},
   "outputs": [
    {
     "data": {
      "text/plain": [
       "(110, 31)"
      ]
     },
     "execution_count": 23,
     "metadata": {},
     "output_type": "execute_result"
    }
   ],
   "source": [
    "X_variance.shape"
   ]
  },
  {
   "cell_type": "markdown",
   "metadata": {},
   "source": [
    "Now lets apply KMeans to that data, and test the same k values that we tested in the previuos section"
   ]
  },
  {
   "cell_type": "code",
   "execution_count": 24,
   "metadata": {},
   "outputs": [],
   "source": [
    "clusters_test = [2,3,4,5]\n",
    "df_kmeans_var_results , kmeans_var_output_vectors = kmeans_clustering(pd.DataFrame(X_variance), clusters_test)"
   ]
  },
  {
   "cell_type": "markdown",
   "metadata": {},
   "source": [
    "#### Analyse the results"
   ]
  },
  {
   "cell_type": "markdown",
   "metadata": {},
   "source": [
    "**With k = 2**"
   ]
  },
  {
   "cell_type": "code",
   "execution_count": 25,
   "metadata": {},
   "outputs": [
    {
     "name": "stdout",
     "output_type": "stream",
     "text": [
      "AVG Silhouette score: 0.3719664673718989\n"
     ]
    },
    {
     "data": {
      "image/png": "[encoded data removed]",
      "text/plain": [
       "<Figure size 720x360 with 1 Axes>"
      ]
     },
     "metadata": {
      "needs_background": "light"
     },
     "output_type": "display_data"
    }
   ],
   "source": [
    "k = 2\n",
    "df_results_var_k2 = get_kmeans_results(df_kmeans_var_results, k)\n",
    "plot_clusters_by_diagnosis(df_results_var_k2)\n",
    "print('AVG Silhouette score: {}'.format(silhouette_score(X, next(item for item in kmeans_var_output_vectors if item[\"k\"] == k)['clusters'], random_state=42)))"
   ]
  },
  {
   "cell_type": "code",
   "execution_count": 26,
   "metadata": {},
   "outputs": [
    {
     "name": "stderr",
     "output_type": "stream",
     "text": [
      "C:\\Users\\joao_\\Anaconda3\\lib\\site-packages\\seaborn\\axisgrid.py:2079: UserWarning: The `size` parameter has been renamed to `height`; please update your code.\n",
      "  warnings.warn(msg, UserWarning)\n"
     ]
    },
    {
     "data": {
      "text/plain": [
       "<seaborn.axisgrid.PairGrid at 0x16753c7d188>"
      ]
     },
     "execution_count": 26,
     "metadata": {},
     "output_type": "execute_result"
    },
    {
     "data": {
      "image/png": "[encoded data removed]",
      "text/plain": [
       "<Figure size 479.375x432 with 1 Axes>"
      ]
     },
     "metadata": {
      "needs_background": "light"
     },
     "output_type": "display_data"
    }
   ],
   "source": [
    "df_plot_var_k2_tsne = pd.DataFrame(TSNE(n_components=2).fit_transform(X_variance),columns=['x','y'])\n",
    "df_plot_var_k2_tsne['clusters'] = next(item for item in kmeans_var_output_vectors if item[\"k\"] == 2)['clusters']\n",
    "sns.pairplot(x_vars=[\"x\"], y_vars=[\"y\"], data=df_plot_var_k2_tsne, hue=\"clusters\", size=6)"
   ]
  },
  {
   "cell_type": "markdown",
   "metadata": {},
   "source": [
    "**With k = 3**"
   ]
  },
  {
   "cell_type": "code",
   "execution_count": 27,
   "metadata": {},
   "outputs": [
    {
     "name": "stdout",
     "output_type": "stream",
     "text": [
      "AVG Silhouette score: 0.15580410617814805\n"
     ]
    },
    {
     "data": {
      "image/png": "[encoded data removed]",
      "text/plain": [
       "<Figure size 720x360 with 1 Axes>"
      ]
     },
     "metadata": {
      "needs_background": "light"
     },
     "output_type": "display_data"
    }
   ],
   "source": [
    "k = 3\n",
    "df_results_var_k2 = get_kmeans_results(df_kmeans_var_results, k)\n",
    "plot_clusters_by_diagnosis(df_results_var_k2)\n",
    "print('AVG Silhouette score: {}'.format(silhouette_score(X, next(item for item in kmeans_var_output_vectors if item[\"k\"] == k)['clusters'], random_state=42)))"
   ]
  },
  {
   "cell_type": "code",
   "execution_count": 28,
   "metadata": {},
   "outputs": [
    {
     "name": "stderr",
     "output_type": "stream",
     "text": [
      "C:\\Users\\joao_\\Anaconda3\\lib\\site-packages\\seaborn\\axisgrid.py:2079: UserWarning: The `size` parameter has been renamed to `height`; please update your code.\n",
      "  warnings.warn(msg, UserWarning)\n"
     ]
    },
    {
     "data": {
      "text/plain": [
       "<seaborn.axisgrid.PairGrid at 0x16754ab6948>"
      ]
     },
     "execution_count": 28,
     "metadata": {},
     "output_type": "execute_result"
    },
    {
     "data": {
      "image/png": "[encoded data removed]",
      "text/plain": [
       "<Figure size 479.375x432 with 1 Axes>"
      ]
     },
     "metadata": {
      "needs_background": "light"
     },
     "output_type": "display_data"
    }
   ],
   "source": [
    "df_plot_var_k2_tsne = pd.DataFrame(TSNE(n_components=2).fit_transform(X_variance),columns=['x','y'])\n",
    "df_plot_var_k2_tsne['clusters'] = next(item for item in kmeans_var_output_vectors if item[\"k\"] == 3)['clusters']\n",
    "sns.pairplot(x_vars=[\"x\"], y_vars=[\"y\"], data=df_plot_var_k2_tsne, hue=\"clusters\", size=6)"
   ]
  },
  {
   "cell_type": "markdown",
   "metadata": {},
   "source": [
    "**With k = 4**"
   ]
  },
  {
   "cell_type": "code",
   "execution_count": 29,
   "metadata": {},
   "outputs": [
    {
     "name": "stdout",
     "output_type": "stream",
     "text": [
      "AVG Silhouette score: 0.027104022651629457\n"
     ]
    },
    {
     "data": {
      "image/png": "[encoded data removed]",
      "text/plain": [
       "<Figure size 720x360 with 1 Axes>"
      ]
     },
     "metadata": {
      "needs_background": "light"
     },
     "output_type": "display_data"
    }
   ],
   "source": [
    "k = 4\n",
    "df_results_var_k2 = get_kmeans_results(df_kmeans_var_results, k)\n",
    "plot_clusters_by_diagnosis(df_results_var_k2)\n",
    "print('AVG Silhouette score: {}'.format(silhouette_score(X, next(item for item in kmeans_var_output_vectors if item[\"k\"] == k)['clusters'], random_state=42)))"
   ]
  },
  {
   "cell_type": "code",
   "execution_count": 35,
   "metadata": {},
   "outputs": [
    {
     "name": "stderr",
     "output_type": "stream",
     "text": [
      "C:\\Users\\joao_\\Anaconda3\\lib\\site-packages\\seaborn\\axisgrid.py:2079: UserWarning: The `size` parameter has been renamed to `height`; please update your code.\n",
      "  warnings.warn(msg, UserWarning)\n"
     ]
    },
    {
     "data": {
      "text/plain": [
       "<seaborn.axisgrid.PairGrid at 0x16753c04488>"
      ]
     },
     "execution_count": 35,
     "metadata": {},
     "output_type": "execute_result"
    },
    {
     "data": {
      "image/png": "[encoded data removed]",
      "text/plain": [
       "<Figure size 479.375x432 with 1 Axes>"
      ]
     },
     "metadata": {
      "needs_background": "light"
     },
     "output_type": "display_data"
    }
   ],
   "source": [
    "df_plot_var_k2_tsne = pd.DataFrame(TSNE(n_components=2).fit_transform(X_variance),columns=['x','y'])\n",
    "df_plot_var_k2_tsne['clusters'] = next(item for item in kmeans_var_output_vectors if item[\"k\"] == 4)['clusters']\n",
    "sns.pairplot(x_vars=[\"x\"], y_vars=[\"y\"], data=df_plot_var_k2_tsne, hue=\"clusters\", size=6)"
   ]
  },
  {
   "cell_type": "markdown",
   "metadata": {},
   "source": [
    "**With k=5**"
   ]
  },
  {
   "cell_type": "code",
   "execution_count": 31,
   "metadata": {},
   "outputs": [
    {
     "name": "stdout",
     "output_type": "stream",
     "text": [
      "AVG Silhouette score: 0.03002419416258378\n"
     ]
    },
    {
     "data": {
      "image/png": "[encoded data removed]",
      "text/plain": [
       "<Figure size 720x360 with 1 Axes>"
      ]
     },
     "metadata": {
      "needs_background": "light"
     },
     "output_type": "display_data"
    }
   ],
   "source": [
    "k = 5\n",
    "df_results_var_k2 = get_kmeans_results(df_kmeans_var_results, k)\n",
    "plot_clusters_by_diagnosis(df_results_var_k2)\n",
    "print('AVG Silhouette score: {}'.format(silhouette_score(X, next(item for item in kmeans_var_output_vectors if item[\"k\"] == k)['clusters'], random_state=42)))"
   ]
  },
  {
   "cell_type": "code",
   "execution_count": 32,
   "metadata": {},
   "outputs": [
    {
     "name": "stderr",
     "output_type": "stream",
     "text": [
      "C:\\Users\\joao_\\Anaconda3\\lib\\site-packages\\seaborn\\axisgrid.py:2079: UserWarning: The `size` parameter has been renamed to `height`; please update your code.\n",
      "  warnings.warn(msg, UserWarning)\n"
     ]
    },
    {
     "data": {
      "text/plain": [
       "<seaborn.axisgrid.PairGrid at 0x16758c95ac8>"
      ]
     },
     "execution_count": 32,
     "metadata": {},
     "output_type": "execute_result"
    },
    {
     "data": {
      "image/png": "[encoded data removed]",
      "text/plain": [
       "<Figure size 479.375x432 with 1 Axes>"
      ]
     },
     "metadata": {
      "needs_background": "light"
     },
     "output_type": "display_data"
    }
   ],
   "source": [
    "df_plot_var_k2_tsne = pd.DataFrame(TSNE(n_components=2).fit_transform(X_variance),columns=['x','y'])\n",
    "df_plot_var_k2_tsne['clusters'] = next(item for item in kmeans_var_output_vectors if item[\"k\"] == 5)['clusters']\n",
    "sns.pairplot(x_vars=[\"x\"], y_vars=[\"y\"], data=df_plot_var_k2_tsne, hue=\"clusters\", size=6)"
   ]
  },
  {
   "cell_type": "markdown",
   "metadata": {},
   "source": [
    "### 3.3 KMeans using PCA components"
   ]
  },
  {
   "cell_type": "code",
   "execution_count": 49,
   "metadata": {},
   "outputs": [],
   "source": [
    "clusters_test = [2,3,4,5,6,7,8,9,10]\n",
    "df_kmeans_pca_results , kmeans_pca_output_vectors = kmeans_clustering(pd.DataFrame(X_PCA), clusters_test)"
   ]
  },
  {
   "cell_type": "code",
   "execution_count": 44,
   "metadata": {},
   "outputs": [
    {
     "name": "stdout",
     "output_type": "stream",
     "text": [
      "AVG Silhouette score: 0.11062819570260382\n"
     ]
    },
    {
     "data": {
      "image/png": "[encoded data removed]",
      "text/plain": [
       "<Figure size 720x360 with 1 Axes>"
      ]
     },
     "metadata": {
      "needs_background": "light"
     },
     "output_type": "display_data"
    }
   ],
   "source": [
    "k = 2\n",
    "df_results_pca_k2 = get_kmeans_results(df_kmeans_pca_results, k)\n",
    "plot_clusters_by_diagnosis(df_results_pca_k2)\n",
    "print('AVG Silhouette score: {}'.format(silhouette_score(X, next(item for item in kmeans_pca_output_vectors if item[\"k\"] == k)['clusters'], random_state=42)))"
   ]
  },
  {
   "cell_type": "code",
   "execution_count": 55,
   "metadata": {},
   "outputs": [
    {
     "name": "stderr",
     "output_type": "stream",
     "text": [
      "C:\\Users\\joao_\\Anaconda3\\lib\\site-packages\\seaborn\\axisgrid.py:2079: UserWarning: The `size` parameter has been renamed to `height`; please update your code.\n",
      "  warnings.warn(msg, UserWarning)\n"
     ]
    },
    {
     "data": {
      "text/plain": [
       "<seaborn.axisgrid.PairGrid at 0x16753cf4a48>"
      ]
     },
     "execution_count": 55,
     "metadata": {},
     "output_type": "execute_result"
    },
    {
     "data": {
      "image/png": "[encoded data removed]",
      "text/plain": [
       "<Figure size 479.375x432 with 1 Axes>"
      ]
     },
     "metadata": {
      "needs_background": "light"
     },
     "output_type": "display_data"
    }
   ],
   "source": [
    "df_plot_pca_k2_tsne = pd.DataFrame(TSNE(n_components=2).fit_transform(X_PCA),columns=['x','y'])\n",
    "df_plot_pca_k2_tsne['clusters'] = next(item for item in kmeans_pca_output_vectors if item[\"k\"] == 2)['clusters']\n",
    "sns.pairplot(x_vars=[\"x\"], y_vars=[\"y\"], data=df_plot_pca_k2_tsne, hue=\"clusters\", size=6)"
   ]
  },
  {
   "cell_type": "code",
   "execution_count": 45,
   "metadata": {},
   "outputs": [
    {
     "name": "stdout",
     "output_type": "stream",
     "text": [
      "AVG Silhouette score: 0.10617604605658557\n"
     ]
    },
    {
     "data": {
      "image/png": "[encoded data removed]",
      "text/plain": [
       "<Figure size 720x360 with 1 Axes>"
      ]
     },
     "metadata": {
      "needs_background": "light"
     },
     "output_type": "display_data"
    }
   ],
   "source": [
    "k = 3\n",
    "df_results_pca_k2 = get_kmeans_results(df_kmeans_pca_results, k)\n",
    "plot_clusters_by_diagnosis(df_results_pca_k2)\n",
    "print('AVG Silhouette score: {}'.format(silhouette_score(X, next(item for item in kmeans_pca_output_vectors if item[\"k\"] == k)['clusters'], random_state=42)))"
   ]
  },
  {
   "cell_type": "code",
   "execution_count": 56,
   "metadata": {},
   "outputs": [
    {
     "name": "stderr",
     "output_type": "stream",
     "text": [
      "C:\\Users\\joao_\\Anaconda3\\lib\\site-packages\\seaborn\\axisgrid.py:2079: UserWarning: The `size` parameter has been renamed to `height`; please update your code.\n",
      "  warnings.warn(msg, UserWarning)\n"
     ]
    },
    {
     "data": {
      "text/plain": [
       "<seaborn.axisgrid.PairGrid at 0x16753c15348>"
      ]
     },
     "execution_count": 56,
     "metadata": {},
     "output_type": "execute_result"
    },
    {
     "data": {
      "image/png": "[encoded data removed]",
      "text/plain": [
       "<Figure size 479.375x432 with 1 Axes>"
      ]
     },
     "metadata": {
      "needs_background": "light"
     },
     "output_type": "display_data"
    }
   ],
   "source": [
    "df_plot_pca_k3_tsne = pd.DataFrame(TSNE(n_components=2).fit_transform(X_PCA),columns=['x','y'])\n",
    "df_plot_pca_k3_tsne['clusters'] = next(item for item in kmeans_pca_output_vectors if item[\"k\"] == 3)['clusters']\n",
    "sns.pairplot(x_vars=[\"x\"], y_vars=[\"y\"], data=df_plot_pca_k3_tsne, hue=\"clusters\", size=6)"
   ]
  },
  {
   "cell_type": "code",
   "execution_count": 46,
   "metadata": {},
   "outputs": [
    {
     "name": "stdout",
     "output_type": "stream",
     "text": [
      "AVG Silhouette score: 0.12309899177134552\n"
     ]
    },
    {
     "data": {
      "image/png": "[encoded data removed]",
      "text/plain": [
       "<Figure size 720x360 with 1 Axes>"
      ]
     },
     "metadata": {
      "needs_background": "light"
     },
     "output_type": "display_data"
    }
   ],
   "source": [
    "k = 4\n",
    "df_results_pca_k2 = get_kmeans_results(df_kmeans_pca_results, k)\n",
    "plot_clusters_by_diagnosis(df_results_pca_k2)\n",
    "print('AVG Silhouette score: {}'.format(silhouette_score(X, next(item for item in kmeans_pca_output_vectors if item[\"k\"] == k)['clusters'], random_state=42)))"
   ]
  },
  {
   "cell_type": "code",
   "execution_count": 57,
   "metadata": {},
   "outputs": [
    {
     "name": "stderr",
     "output_type": "stream",
     "text": [
      "C:\\Users\\joao_\\Anaconda3\\lib\\site-packages\\seaborn\\axisgrid.py:2079: UserWarning: The `size` parameter has been renamed to `height`; please update your code.\n",
      "  warnings.warn(msg, UserWarning)\n"
     ]
    },
    {
     "data": {
      "text/plain": [
       "<seaborn.axisgrid.PairGrid at 0x1675b4bff08>"
      ]
     },
     "execution_count": 57,
     "metadata": {},
     "output_type": "execute_result"
    },
    {
     "data": {
      "image/png": "[encoded data removed]",
      "text/plain": [
       "<Figure size 479.375x432 with 1 Axes>"
      ]
     },
     "metadata": {
      "needs_background": "light"
     },
     "output_type": "display_data"
    }
   ],
   "source": [
    "df_plot_pca_k4_tsne = pd.DataFrame(TSNE(n_components=2).fit_transform(X_PCA),columns=['x','y'])\n",
    "df_plot_pca_k4_tsne['clusters'] = next(item for item in kmeans_pca_output_vectors if item[\"k\"] == 4)['clusters']\n",
    "sns.pairplot(x_vars=[\"x\"], y_vars=[\"y\"], data=df_plot_pca_k4_tsne, hue=\"clusters\", size=6)"
   ]
  },
  {
   "cell_type": "code",
   "execution_count": 47,
   "metadata": {},
   "outputs": [
    {
     "name": "stdout",
     "output_type": "stream",
     "text": [
      "AVG Silhouette score: 0.1023482754058019\n"
     ]
    },
    {
     "data": {
      "image/png": "[encoded data removed]",
      "text/plain": [
       "<Figure size 720x360 with 1 Axes>"
      ]
     },
     "metadata": {
      "needs_background": "light"
     },
     "output_type": "display_data"
    }
   ],
   "source": [
    "k = 5\n",
    "df_results_pca_k2 = get_kmeans_results(df_kmeans_pca_results, k)\n",
    "plot_clusters_by_diagnosis(df_results_pca_k2)\n",
    "print('AVG Silhouette score: {}'.format(silhouette_score(X, next(item for item in kmeans_pca_output_vectors if item[\"k\"] == k)['clusters'], random_state=42)))"
   ]
  },
  {
   "cell_type": "code",
   "execution_count": 48,
   "metadata": {},
   "outputs": [
    {
     "name": "stdout",
     "output_type": "stream",
     "text": [
      "AVG Silhouette score: 0.11552999418937218\n"
     ]
    },
    {
     "data": {
      "image/png": "[encoded data removed]",
      "text/plain": [
       "<Figure size 720x360 with 1 Axes>"
      ]
     },
     "metadata": {
      "needs_background": "light"
     },
     "output_type": "display_data"
    }
   ],
   "source": [
    "k = 6\n",
    "df_results_pca_k2 = get_kmeans_results(df_kmeans_pca_results, k)\n",
    "plot_clusters_by_diagnosis(df_results_pca_k2)\n",
    "print('AVG Silhouette score: {}'.format(silhouette_score(X, next(item for item in kmeans_pca_output_vectors if item[\"k\"] == k)['clusters'], random_state=42)))"
   ]
  },
  {
   "cell_type": "code",
   "execution_count": 63,
   "metadata": {},
   "outputs": [
    {
     "name": "stderr",
     "output_type": "stream",
     "text": [
      "C:\\Users\\joao_\\Anaconda3\\lib\\site-packages\\seaborn\\axisgrid.py:2079: UserWarning: The `size` parameter has been renamed to `height`; please update your code.\n",
      "  warnings.warn(msg, UserWarning)\n"
     ]
    },
    {
     "data": {
      "text/plain": [
       "<seaborn.axisgrid.PairGrid at 0x1675395d5c8>"
      ]
     },
     "execution_count": 63,
     "metadata": {},
     "output_type": "execute_result"
    },
    {
     "data": {
      "image/png": "[encoded data removed]",
      "text/plain": [
       "<Figure size 479.375x432 with 1 Axes>"
      ]
     },
     "metadata": {
      "needs_background": "light"
     },
     "output_type": "display_data"
    }
   ],
   "source": [
    "df_plot_pca_k6_tsne = pd.DataFrame(TSNE(n_components=2).fit_transform(X_PCA),columns=['x','y'])\n",
    "df_plot_pca_k6_tsne['clusters'] = next(item for item in kmeans_pca_output_vectors if item[\"k\"] == 6)['clusters']\n",
    "sns.pairplot(x_vars=[\"x\"], y_vars=[\"y\"], data=df_plot_pca_k6_tsne, hue=\"clusters\", size=6)"
   ]
  },
  {
   "cell_type": "code",
   "execution_count": 50,
   "metadata": {},
   "outputs": [
    {
     "name": "stdout",
     "output_type": "stream",
     "text": [
      "AVG Silhouette score: 0.1083048324172044\n"
     ]
    },
    {
     "data": {
      "image/png": "[encoded data removed]",
      "text/plain": [
       "<Figure size 720x360 with 1 Axes>"
      ]
     },
     "metadata": {
      "needs_background": "light"
     },
     "output_type": "display_data"
    }
   ],
   "source": [
    "k = 10\n",
    "df_results_pca_k2 = get_kmeans_results(df_kmeans_pca_results, k)\n",
    "plot_clusters_by_diagnosis(df_results_pca_k2)\n",
    "print('AVG Silhouette score: {}'.format(silhouette_score(X, next(item for item in kmeans_pca_output_vectors if item[\"k\"] == k)['clusters'], random_state=42)))"
   ]
  },
  {
   "cell_type": "code",
   "execution_count": 58,
   "metadata": {},
   "outputs": [
    {
     "name": "stderr",
     "output_type": "stream",
     "text": [
      "C:\\Users\\joao_\\Anaconda3\\lib\\site-packages\\seaborn\\axisgrid.py:2079: UserWarning: The `size` parameter has been renamed to `height`; please update your code.\n",
      "  warnings.warn(msg, UserWarning)\n"
     ]
    },
    {
     "data": {
      "text/plain": [
       "<seaborn.axisgrid.PairGrid at 0x1675b489ac8>"
      ]
     },
     "execution_count": 58,
     "metadata": {},
     "output_type": "execute_result"
    },
    {
     "data": {
      "image/png": "[encoded data removed]",
      "text/plain": [
       "<Figure size 479.375x432 with 1 Axes>"
      ]
     },
     "metadata": {
      "needs_background": "light"
     },
     "output_type": "display_data"
    }
   ],
   "source": [
    "df_plot_pca_k10_tsne = pd.DataFrame(TSNE(n_components=2).fit_transform(X_PCA),columns=['x','y'])\n",
    "df_plot_pca_k10_tsne['clusters'] = next(item for item in kmeans_pca_output_vectors if item[\"k\"] == 10)['clusters']\n",
    "sns.pairplot(x_vars=[\"x\"], y_vars=[\"y\"], data=df_plot_pca_k10_tsne, hue=\"clusters\", size=6)"
   ]
  },
  {
   "cell_type": "markdown",
   "metadata": {},
   "source": [
    "## 4. Clustering Patients using Hierarchical Clustering"
   ]
  },
  {
   "cell_type": "markdown",
   "metadata": {},
   "source": [
    "Use a **Hierarchical Clustering Algorithm (HCA)** to cluster the patients: \n",
    "\n",
    "* Cluster the data in **X_variance**.\n",
    "    * Use **different linkage metrics**.\n",
    "    * Use different values of `K`.\n",
    "    * For each linkage metric and value of `K` present the clustering by specifying how many patients ALL and AML are in each cluster as you did before. \n",
    "    * What is the best linkage metric and the best value of `K`? Justify using the clustering results and the [Silhouette score](http://scikit-learn.org/stable/modules/generated/sklearn.metrics.silhouette_score.html).\n",
    "\n",
    "* Cluster the data in **X_PCA**.\n",
    "    * Study different linkage metrics and different values of `K` as above.\n",
    "\n",
    "* Compare the results obtained in the two datasets above for the best linkage metric and the best `K`. Discuss."
   ]
  },
  {
   "cell_type": "code",
   "execution_count": null,
   "metadata": {},
   "outputs": [],
   "source": [
    "# Write code in cells like this\n",
    "# ...."
   ]
  },
  {
   "cell_type": "markdown",
   "metadata": {},
   "source": [
    "Write text in cells like this ..."
   ]
  },
  {
   "cell_type": "markdown",
   "metadata": {},
   "source": [
    "## 5. Evaluating Clustering Results"
   ]
  },
  {
   "cell_type": "markdown",
   "metadata": {},
   "source": [
    "In this task you should compare the best results obtained using `K`-means and HCA \n",
    "1. **Without using ground truth**\n",
    "2. **Using ground truth (`DIAGNOSIS`)**."
   ]
  },
  {
   "cell_type": "markdown",
   "metadata": {},
   "source": [
    "## 5.1. Without Using Ground Truth"
   ]
  },
  {
   "cell_type": "markdown",
   "metadata": {},
   "source": [
    "**Choose one adequate measure** from those available by Sciki-learn (https://scikit-learn.org/stable/modules/clustering.html#clustering-performance-evaluation) to evaluate the different clusterings. \n",
    "\n",
    "Discuss the results."
   ]
  },
  {
   "cell_type": "code",
   "execution_count": null,
   "metadata": {},
   "outputs": [],
   "source": [
    "# Write code in cells like this\n",
    "# ...."
   ]
  },
  {
   "cell_type": "markdown",
   "metadata": {},
   "source": [
    "Write text in cells like this ..."
   ]
  },
  {
   "cell_type": "markdown",
   "metadata": {},
   "source": [
    "## 5.2. Using Ground Truth"
   ]
  },
  {
   "cell_type": "markdown",
   "metadata": {},
   "source": [
    "**Choose one adequate measure** from those available by Sciki-learn (https://scikit-learn.org/stable/modules/clustering.html#clustering-performance-evaluation) to evaluate the different clusterings. \n",
    "\n",
    "Discuss the results."
   ]
  },
  {
   "cell_type": "code",
   "execution_count": null,
   "metadata": {},
   "outputs": [],
   "source": [
    "# Write code in cells like this\n",
    "# ...."
   ]
  },
  {
   "cell_type": "markdown",
   "metadata": {},
   "source": [
    "Write text in cells like this ..."
   ]
  },
  {
   "cell_type": "markdown",
   "metadata": {},
   "source": [
    "## 6. Clustering Patients using Density-based Clustering\n",
    "\n",
    "Use DBSCAN (https://scikit-learn.org/stable/modules/generated/sklearn.cluster.DBSCAN.html) or OPTICS (https://scikit-learn.org/stable/modules/generated/sklearn.cluster.OPTICS.html) to cluster the patients.\n",
    "\n",
    "Compare the results with those of K-means and HCA."
   ]
  },
  {
   "cell_type": "code",
   "execution_count": null,
   "metadata": {},
   "outputs": [],
   "source": [
    "# Write code in cells like this\n",
    "# ...."
   ]
  },
  {
   "cell_type": "markdown",
   "metadata": {},
   "source": [
    "Write text in cells like this ..."
   ]
  }
 ],
 "metadata": {
  "kernelspec": {
   "display_name": "Python 3",
   "language": "python",
   "name": "python3"
  },
  "language_info": {
   "codemirror_mode": {
    "name": "ipython",
    "version": 3
   },
   "file_extension": ".py",
   "mimetype": "text/x-python",
   "name": "python",
   "nbconvert_exporter": "python",
   "pygments_lexer": "ipython3",
   "version": "3.7.6"
  }
 },
 "nbformat": 4,
 "nbformat_minor": 4
}
